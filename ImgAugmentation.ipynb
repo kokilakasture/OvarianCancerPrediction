{
  "nbformat": 4,
  "nbformat_minor": 0,
  "metadata": {
    "colab": {
      "name": "ImgAugmentation.ipynb",
      "provenance": []
    },
    "kernelspec": {
      "name": "python3",
      "display_name": "Python 3"
    }
  },
  "cells": [
    {
      "cell_type": "code",
      "metadata": {
        "id": "9h0Jn9ahRr6q",
        "colab": {
          "base_uri": "https://localhost:8080/",
          "height": 128
        },
        "outputId": "55aff381-64d3-44df-fb43-6db1458eed87"
      },
      "source": [
        "from google.colab import drive\n",
        "drive.mount(\"/content/drive/\", force_remount=True)"
      ],
      "execution_count": null,
      "outputs": [
        {
          "output_type": "stream",
          "text": [
            "Go to this URL in a browser: https://accounts.google.com/o/oauth2/auth?client_id=947318989803-6bn6qk8qdgf4n4g3pfee6491hc0brc4i.apps.googleusercontent.com&redirect_uri=urn%3aietf%3awg%3aoauth%3a2.0%3aoob&scope=email%20https%3a%2f%2fwww.googleapis.com%2fauth%2fdocs.test%20https%3a%2f%2fwww.googleapis.com%2fauth%2fdrive%20https%3a%2f%2fwww.googleapis.com%2fauth%2fdrive.photos.readonly%20https%3a%2f%2fwww.googleapis.com%2fauth%2fpeopleapi.readonly&response_type=code\n",
            "\n",
            "Enter your authorization code:\n",
            "··········\n",
            "Mounted at /content/drive/\n"
          ],
          "name": "stdout"
        }
      ]
    },
    {
      "cell_type": "code",
      "metadata": {
        "id": "dP45pNQrFm1B",
        "colab": {
          "base_uri": "https://localhost:8080/",
          "height": 35
        },
        "outputId": "dc84992d-fdc0-4f33-dc75-2622e0729b07"
      },
      "source": [
        "!ls"
      ],
      "execution_count": null,
      "outputs": [
        {
          "output_type": "stream",
          "text": [
            "drive  sample_data\n"
          ],
          "name": "stdout"
        }
      ]
    },
    {
      "cell_type": "code",
      "metadata": {
        "id": "RfDxTqSCR8NM"
      },
      "source": [
        "fpath = \"/content/drive/My Drive/ovaug\""
      ],
      "execution_count": null,
      "outputs": []
    },
    {
      "cell_type": "code",
      "metadata": {
        "id": "hzCmiDuFSKuq"
      },
      "source": [
        "# Importing necessary moduels \n",
        "from keras.preprocessing.image import ImageDataGenerator,array_to_img, img_to_array, load_img \n",
        "\n",
        "# Initialising the ImageDataGenerator class. \n",
        "# We will pass in the augmentation parameters in the constructor. \n",
        "#40 degree image rotation, Array/pixel values being varied by 20%, zooming the pixel values by 20%, brightness range changed from 50%to 150%\n",
        "data = ImageDataGenerator( \n",
        "    rotation_range = 40, \n",
        "    shear_range = 0.2, \n",
        "    zoom_range = 0.2, \n",
        "    horizontal_flip = True, \n",
        "    brightness_range = (0.5, 1.5)) \n",
        "    \n",
        "# Loading a sample image \n",
        "img = load_img(\"/content/drive/My Drive/3.jpeg\")\n",
        "# Converting the input sample image to an array  \n",
        "# Reshaping the input image \n",
        "x = img_to_array(img)\n",
        "x = x.reshape((1, ) + x.shape) \n",
        "\n",
        "# Generating and saving 5 augmented samples \n",
        "# using the above defined parameters. \n",
        "i = 0\n",
        "for batch in data.flow(x, batch_size = 1, \n",
        "                          save_to_dir =\"/content/drive/My Drive/tsaug\", \n",
        "                          save_prefix ='Ser', save_format ='jpg'): \n",
        "    i += 1\n",
        "    if i > 50: \n",
        "        break"
      ],
      "execution_count": null,
      "outputs": []
    }
  ]
}