{
  "nbformat": 4,
  "nbformat_minor": 0,
  "metadata": {
    "kernelspec": {
      "display_name": "Python 3",
      "language": "python",
      "name": "python3"
    },
    "language_info": {
      "codemirror_mode": {
        "name": "ipython",
        "version": 3
      },
      "file_extension": ".py",
      "mimetype": "text/x-python",
      "name": "python",
      "nbconvert_exporter": "python",
      "pygments_lexer": "ipython3",
      "version": "3.7.6"
    },
    "colab": {
      "name": "Test.ipynb",
      "provenance": [],
      "collapsed_sections": []
    }
  },
  "cells": [
    {
      "cell_type": "code",
      "metadata": {
        "id": "U_gT2yYLFDjh"
      },
      "source": [
        "from keras.models import load_model\n",
        "from keras.preprocessing import image\n",
        "import numpy as np\n",
        "import os\n",
        "import cv2\n",
        "from os import listdir\n",
        "from os.path import isfile, join"
      ],
      "execution_count": null,
      "outputs": []
    },
    {
      "cell_type": "code",
      "metadata": {
        "id": "jD_g8r32FDj3"
      },
      "source": [
        "classifier = load_model('model/Alex3_CD.h5')\n",
        "\n",
        "class_labels = np.array(['Clear_Cell','Endometri','Mucinous','Non_Cancerous','Serous'])\n",
        "\n",
        "def draw_test(name, pred, im, true_label):\n",
        "    BLACK = [0,0,0]\n",
        "    expanded_image = cv2.copyMakeBorder(im, 160, 0, 0, 300 ,cv2.BORDER_CONSTANT,value=BLACK)\n",
        "    cv2.putText(expanded_image, \"predited - \"+ pred, (20, 60) , cv2.FONT_HERSHEY_SIMPLEX,1, (0,0,255), 2)\n",
        "    cv2.putText(expanded_image, \"true - \"+ true_label, (20, 120) , cv2.FONT_HERSHEY_SIMPLEX,1, (0,255,0), 2)\n",
        "    cv2.imshow(name, expanded_image)\n",
        "\n",
        "def getRandomImage(path, img_width, img_height):\n",
        "    folders = list(filter(lambda x: os.path.isdir(os.path.join(path, x)), os.listdir(path)))\n",
        "    random_directory = np.random.randint(0,len(folders))\n",
        "    path_class = folders[random_directory]\n",
        "    file_path = path + path_class\n",
        "    file_names = [f for f in listdir(file_path) if isfile(join(file_path, f))]\n",
        "    random_file_index = np.random.randint(0,len(file_names))\n",
        "    image_name = file_names[random_file_index]\n",
        "    final_path = file_path + \"/\" + image_name\n",
        "    return image.load_img(final_path, target_size = (img_width, img_height)), final_path, path_class\n",
        "\n",
        "\n"
      ],
      "execution_count": null,
      "outputs": []
    },
    {
      "cell_type": "code",
      "metadata": {
        "id": "4n6NKEoBFDj7"
      },
      "source": [
        "img_width, img_height = 227, 227\n",
        "files = []\n",
        "predictions = []\n",
        "true_labels = []\n",
        "\n",
        "for i in range(0, 25):\n",
        "    path = './cancerous_and_types_of_cancers/valid/'\n",
        "    img, final_path, true_label = getRandomImage(path, img_width, img_height)\n",
        "    files.append(final_path)\n",
        "    true_labels.append(true_label)\n",
        "    x = image.img_to_array(img)\n",
        "    x = x * 1./255\n",
        "    x = np.expand_dims(x, axis=0)\n",
        "    images = np.vstack([x])\n",
        "    classes = classifier.predict_classes(images, batch_size = 10)\n",
        "    predictions.append(classes)\n",
        "\n",
        "for i in range(0, len(files)):\n",
        "    image = cv2.imread((files[i]))\n",
        "    image = cv2.resize(image, None, fx=5, fy=5, interpolation = cv2.INTER_CUBIC)\n",
        "    \n",
        "    draw_test(\"Prediction\", class_labels[predictions[i][0]], image, true_labels[i])\n",
        "    cv2.waitKey(0)==13\n",
        "\n",
        "cv2.destroyAllWindows()\n",
        "\n"
      ],
      "execution_count": null,
      "outputs": []
    },
    {
      "cell_type": "code",
      "metadata": {
        "id": "s-AiSIDjFDkA"
      },
      "source": [
        "import cv2\n",
        "from os import listdir\n",
        "from os.path import isfile, join\n",
        "from keras.models import load_model\n",
        "\n",
        "model = load_model('model/VGG19_cd.h5')\n",
        "# Our openCV function that displays the image and it's predicted labels \n",
        "def draw_test(name, preditions, input_im):\n",
        "    \"\"\"Function displays the output of the prediction alongside the orignal image\"\"\"\n",
        "    BLACK = [0,0,0]\n",
        "    expanded_image = cv2.copyMakeBorder(input_im, 0, 0, 0, imageL.shape[1]+300 ,cv2.BORDER_CONSTANT,value=BLACK)\n",
        "    img_width = input_im.shape[1]\n",
        "    for (i,predition) in enumerate(preditions):\n",
        "        string = str(predition[1]) + \" \" + str(predition[2])\n",
        "        cv2.putText(expanded_image,str(name),(img_width + 50,50),cv2.FONT_HERSHEY_COMPLEX_SMALL,2,(0,0,255),1)\n",
        "        cv2.putText(expanded_image,string,(img_width + 50,50+((i+1)*50)),cv2.FONT_HERSHEY_COMPLEX_SMALL,2,(0,255,0),1)\n",
        "    cv2.imshow(name, expanded_image)\n",
        "\n",
        "# Get images located in ./images folder    \n",
        "mypath = \"/Users/kokila/Desktop/Cancer_detection/cancerous_and_types_of_cancers/valid/Clear_Cell/\"\n",
        "file_names = [f for f in listdir(mypath) if isfile(join(mypath, f))]\n",
        "\n",
        "# Loop through images run them through our classifer\n",
        "for file in file_names:\n",
        "\n",
        "    from keras.preprocessing import image # Need to reload as opencv2 seems to have a conflict\n",
        "    img = image.load_img(mypath+file, target_size=(100, 100))\n",
        "    x = image.img_to_array(img)\n",
        "    x = np.expand_dims(x, axis=0)\n",
        "   \n",
        "    \n",
        "    \n",
        "    #load image using opencv\n",
        "    img2 = cv2.imread(mypath+file)\n",
        "    imageL = cv2.resize(img2, None, fx=.5, fy=.5, interpolation = cv2.INTER_CUBIC) \n",
        "    \n",
        "    # Get Predictions\n",
        "    preds = model.predict(x)\n",
        "    \n",
        "    \n",
        "    draw_test(\"Predictions\", class_labels[predictions[i][0]],preds, imageL) \n",
        "    cv2.waitKey(0)\n",
        "\n",
        "cv2.destroyAllWindows()"
      ],
      "execution_count": null,
      "outputs": []
    },
    {
      "cell_type": "code",
      "metadata": {
        "id": "5eja-skSFDkC"
      },
      "source": [
        ""
      ],
      "execution_count": null,
      "outputs": []
    }
  ]
}